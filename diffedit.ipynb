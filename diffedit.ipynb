{
  "nbformat": 4,
  "nbformat_minor": 0,
  "metadata": {
    "colab": {
      "provenance": [],
      "authorship_tag": "ABX9TyPvcKg+Z2VIaEX6hpj955JQ"
    },
    "kernelspec": {
      "name": "python3",
      "display_name": "Python 3"
    },
    "language_info": {
      "name": "python"
    }
  },
  "cells": [
    {
      "cell_type": "markdown",
      "source": [
        "# DiffEdit\n",
        "\n",
        "A hugging face usage of the [`DiffEdit`](https://arxiv.org/abs/2210.11427) technique presented in this paper, with unsplash photos."
      ],
      "metadata": {
        "id": "Ul4OuHFiD_yr"
      }
    },
    {
      "cell_type": "code",
      "source": [],
      "metadata": {
        "id": "1FalRNOiEO5X"
      },
      "execution_count": null,
      "outputs": []
    }
  ]
}